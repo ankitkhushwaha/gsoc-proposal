{
 "cells": [
  {
   "cell_type": "code",
   "execution_count": 1,
   "metadata": {},
   "outputs": [
    {
     "name": "stdout",
     "output_type": "stream",
     "text": [
      "  name      obsid       ra      dec   \n",
      "                       deg      deg   \n",
      "-------- ----------- -------- --------\n",
      "NGC_3783 60101110002 174.7236 -37.7230\n",
      "NGC_3783 60101110004 174.7253 -37.7277\n",
      "NGC_3783 80202006002 174.7838 -37.7277\n"
     ]
    }
   ],
   "source": [
    "from astroquery.heasarc import Heasarc\n",
    "\n",
    "from astropy.coordinates import SkyCoord\n",
    "\n",
    "pos = SkyCoord.from_name('ngc 3783')\n",
    "\n",
    "tab = Heasarc.query_region(pos, catalog='numaster')\n",
    "\n",
    "tab = tab[tab['time'] > 0]\n",
    "\n",
    "tab.sort('time')\n",
    "\n",
    "tab['name', 'obsid', 'ra', 'dec'][:3].pprint()"
   ]
  },
  {
   "cell_type": "code",
   "execution_count": 2,
   "metadata": {},
   "outputs": [
    {
     "name": "stdout",
     "output_type": "stream",
     "text": [
      "           name           obsid     ra      dec   \n",
      "                                   deg      deg   \n",
      "------------------------- ----- --------- --------\n",
      "B2 0755+37                858   119.61750 37.78667\n",
      "ABELL 611                 3194  120.23708 36.05722\n",
      "1RXS J075526.1+391111     13008 118.85875 39.18639\n",
      "SDSS J080040.77+391700.5  18110 120.17000 39.28344\n",
      "WISEA J080357.73+390823.1 28213 120.99060 39.13980\n"
     ]
    }
   ],
   "source": [
    "from astroquery.heasarc import Heasarc\n",
    "\n",
    "from astropy.coordinates import SkyCoord\n",
    "\n",
    "from astropy import units as u\n",
    "\n",
    "pos = SkyCoord('120 38', unit=u.deg)\n",
    "\n",
    "tab = Heasarc.query_region(pos, catalog='chanmaster', radius=2*u.deg)\n",
    "\n",
    "tab.sort('time')\n",
    "\n",
    "tab['name', 'obsid', 'ra', 'dec'][:5].pprint(align='<')"
   ]
  },
  {
   "cell_type": "code",
   "execution_count": null,
   "metadata": {},
   "outputs": [
    {
     "name": "stdout",
     "output_type": "stream",
     "text": [
      "name  ra dec time obsid ... processing_date public_date obs_type __row\n",
      "     deg deg  d         ...        d             d                    \n",
      "---- --- --- ---- ----- ... --------------- ----------- -------- -----\n"
     ]
    },
    {
     "name": "stderr",
     "output_type": "stream",
     "text": [
      "WARNING: NoResultsWarning: No matching rows were found in the query. [astroquery.heasarc.core]\n"
     ]
    }
   ],
   "source": [
    "from astroquery.heasarc import Heasarc\n",
    "\n",
    "from astropy.coordinates import SkyCoord\n",
    "\n",
    "from astropy import units as u\n",
    "\n",
    "pos = SkyCoord('120 38', unit=u.deg)\n",
    "\n",
    "tab = Heasarc.query_region(pos, catalog='chanmaster', radius=2*u.deg,\n",
    "\n",
    "                           columns='obsid, name, time, pi')\n",
    "\n",
    "tab[:5].pprint()"
   ]
  },
  {
   "cell_type": "code",
   "execution_count": 4,
   "metadata": {},
   "outputs": [
    {
     "name": "stdout",
     "output_type": "stream",
     "text": [
      "23\n",
      "   name        description    \n",
      "---------- -------------------\n",
      "ascamaster ASCA Master Catalog\n",
      "   name        description     \n",
      "---------- --------------------\n",
      "chanmaster Chandra Observations\n",
      "   name                            description                         \n",
      "--------- -------------------------------------------------------------\n",
      "cmbmaster LAMBDA Cosmic Microwave Background Experiments Master Catalog\n",
      "   name                 description             \n",
      "---------- -------------------------------------\n",
      "erassmastr eROSITA All-Sky Survey Master Catalog\n",
      "   name                description            \n",
      "---------- -----------------------------------\n",
      "erosmaster eROSITA Observations Master Catalog\n",
      "   name              description           \n",
      "---------- --------------------------------\n",
      "euvemaster EUVE Archive and Observation Log\n",
      "   name            description          \n",
      "--------- ------------------------------\n",
      "exomaster EXOSAT Master Observation List\n",
      "   name         description      \n",
      "---------- ----------------------\n",
      "halomaster HaloSat Master Catalog\n",
      "   name         description     \n",
      "---------- ---------------------\n",
      "hitomaster Hitomi Master Catalog\n",
      "  name       description    \n",
      "-------- -------------------\n",
      "ixmaster IXPE Master Catalog\n",
      "   name        description    \n",
      "---------- -------------------\n",
      "maximaster MAXI Master Catalog\n",
      "   name        description     \n",
      "---------- --------------------\n",
      "nicermastr NICER Master Catalog\n",
      "  name        description     \n",
      "-------- ---------------------\n",
      "numaster NuSTAR Master Catalog\n",
      "   name               description            \n",
      "---------- ----------------------------------\n",
      "rassmaster ROSAT All-Sky Survey Archival Data\n",
      "   name       description    \n",
      "--------- -------------------\n",
      "rosmaster ROSAT Archival Data\n",
      "   name                  description              \n",
      "---------- ---------------------------------------\n",
      "spitzmastr Spitzer Space Telescope Observation Log\n",
      "   name         description     \n",
      "---------- ---------------------\n",
      "suzamaster Suzaku Master Catalog\n",
      "   name        description     \n",
      "---------- --------------------\n",
      "swiftmastr Swift Master Catalog\n",
      "   name                   description                 \n",
      "--------- --------------------------------------------\n",
      "uitmaster Ultraviolet Imaging Telescope Master Catalog\n",
      "   name         description      \n",
      "---------- ----------------------\n",
      "verimaster VERITAS Source Catalog\n",
      "   name                description              \n",
      "--------- --------------------------------------\n",
      "xmmmaster XMM-Newton Master Log & Public Archive\n",
      "   name        description     \n",
      "---------- --------------------\n",
      "xrismmastr XRISM Master Catalog\n",
      "   name      description    \n",
      "--------- ------------------\n",
      "xtemaster XTE Master Catalog\n"
     ]
    }
   ],
   "source": [
    "from astroquery.heasarc import Heasarc\n",
    "\n",
    "catalogs = Heasarc.list_catalogs(master=True)\n",
    "print(len(catalogs))\n",
    "for i in catalogs:\n",
    "    print(i)"
   ]
  },
  {
   "cell_type": "code",
   "execution_count": 1,
   "metadata": {},
   "outputs": [
    {
     "data": {
      "text/html": [
       "<div><i>Table length=492</i>\n",
       "<table id=\"table137103221599952\" class=\"table-striped table-bordered table-condensed\">\n",
       "<thead><tr><th>name</th><th>ra</th><th>dec</th><th>time</th><th>obsid</th><th>exposure</th><th>processing_status</th><th>processing_date</th><th>public_date</th><th>obs_type</th><th>__row</th></tr></thead>\n",
       "<thead><tr><th></th><th>deg</th><th>deg</th><th>d</th><th></th><th>s</th><th></th><th>d</th><th>d</th><th></th><th></th></tr></thead>\n",
       "<thead><tr><th>object</th><th>float64</th><th>float64</th><th>float64</th><th>object</th><th>float64</th><th>object</th><th>float64</th><th>int32</th><th>object</th><th>object</th></tr></thead>\n",
       "<tr><td>Slew</td><td>350.73960</td><td>58.72544</td><td>57922.258935</td><td>0001020102</td><td>0.00000</td><td>PROCESSED</td><td>58179.8752</td><td>88068</td><td>ENG</td><td>53690</td></tr>\n",
       "<tr><td>Cas_A</td><td>350.82570</td><td>58.78138</td><td>57926.117847</td><td>0010080105</td><td>0.00000</td><td>PROCESSED</td><td>58179.9454</td><td>88068</td><td>CAL</td><td>53691</td></tr>\n",
       "<tr><td>Cas_A</td><td>350.82570</td><td>58.78139</td><td>57925.017199</td><td>0010080104</td><td>1.00000</td><td>PROCESSED</td><td>58179.9402</td><td>88068</td><td>CAL</td><td>53692</td></tr>\n",
       "<tr><td>Cas_A</td><td>350.81590</td><td>58.78534</td><td>57923.087986</td><td>0010080102</td><td>0.00000</td><td>PROCESSED</td><td>58179.9331</td><td>88068</td><td>CAL</td><td>53693</td></tr>\n",
       "<tr><td>Cas_A</td><td>350.80710</td><td>58.79000</td><td>57924.051181</td><td>0010080103</td><td>0.00000</td><td>PROCESSED</td><td>58179.9380</td><td>88068</td><td>CAL</td><td>53699</td></tr>\n",
       "<tr><td>Cas_A</td><td>350.85390</td><td>58.80125</td><td>59852.162963</td><td>5010080245</td><td>204.00000</td><td>VALIDATED</td><td>59861.9066</td><td>59866</td><td>CAL</td><td>54521</td></tr>\n",
       "<tr><td>Cas_A</td><td>350.85450</td><td>58.80301</td><td>60578.431481</td><td>7010080341</td><td>168.00000</td><td>VALIDATED</td><td>60591.7200</td><td>60592</td><td>CAL</td><td>54523</td></tr>\n",
       "<tr><td>Cas_A</td><td>350.86070</td><td>58.80435</td><td>59131.597222</td><td>3010080135</td><td>0.00000</td><td>VALIDATED</td><td>59135.6404</td><td>59145</td><td>CAL</td><td>54524</td></tr>\n",
       "<tr><td>Cas_A</td><td>350.85090</td><td>58.80490</td><td>60003.237731</td><td>5010080277</td><td>528.00000</td><td>VALIDATED</td><td>60011.3168</td><td>60017</td><td>CAL</td><td>54525</td></tr>\n",
       "<tr><td>...</td><td>...</td><td>...</td><td>...</td><td>...</td><td>...</td><td>...</td><td>...</td><td>...</td><td>...</td><td>...</td></tr>\n",
       "<tr><td>Cas_A</td><td>350.85300</td><td>58.81191</td><td>60168.532176</td><td>6010080251</td><td>1.06486</td><td>VALIDATED</td><td>60180.1089</td><td>60182</td><td>CAL</td><td>55000</td></tr>\n",
       "<tr><td>Cas_A</td><td>350.85560</td><td>58.81206</td><td>59816.689583</td><td>5010080226</td><td>346.00000</td><td>VALIDATED</td><td>59829.3213</td><td>59830</td><td>CAL</td><td>55001</td></tr>\n",
       "<tr><td>Cas_A</td><td>350.85290</td><td>58.81228</td><td>59441.575694</td><td>4010080137</td><td>2557.00000</td><td>VALIDATED</td><td>59470.9208</td><td>59455</td><td>CAL</td><td>55002</td></tr>\n",
       "<tr><td>Cas_A</td><td>350.85310</td><td>58.81233</td><td>59442.027315</td><td>4010080138</td><td>4618.00000</td><td>VALIDATED</td><td>59470.9378</td><td>59456</td><td>CAL</td><td>55003</td></tr>\n",
       "<tr><td>Cas_A</td><td>350.85250</td><td>58.81251</td><td>60534.884028</td><td>7010080333</td><td>0.00000</td><td>VALIDATED</td><td>60545.5143</td><td>60548</td><td>CAL</td><td>55004</td></tr>\n",
       "<tr><td>Cas_A</td><td>350.86710</td><td>58.81393</td><td>59018.190046</td><td>3010080120</td><td>270.00000</td><td>VALIDATED</td><td>59022.7164</td><td>59032</td><td>CAL</td><td>55005</td></tr>\n",
       "<tr><td>Cas_A</td><td>350.89510</td><td>58.81420</td><td>60633.596991</td><td>7010080342</td><td>0.00000</td><td>VALIDATED</td><td>60643.7810</td><td>60647</td><td>CAL</td><td>55006</td></tr>\n",
       "<tr><td>Cas_A</td><td>350.85060</td><td>58.81431</td><td>60172.531944</td><td>6010080254</td><td>0.00000</td><td>VALIDATED</td><td>60185.1050</td><td>60186</td><td>CAL</td><td>55007</td></tr>\n",
       "<tr><td>Cas_A</td><td>350.85480</td><td>58.81491</td><td>58073.572072</td><td>1010080105</td><td>516.00000</td><td>VALIDATED</td><td>58180.3188</td><td>58181</td><td>CAL</td><td>55008</td></tr>\n",
       "</table></div>"
      ],
      "text/plain": [
       "<Table length=492>\n",
       " name      ra      dec        time     ... public_date obs_type __row \n",
       "          deg      deg         d       ...      d                     \n",
       "object  float64  float64    float64    ...    int32     object  object\n",
       "------ --------- -------- ------------ ... ----------- -------- ------\n",
       "  Slew 350.73960 58.72544 57922.258935 ...       88068      ENG  53690\n",
       " Cas_A 350.82570 58.78138 57926.117847 ...       88068      CAL  53691\n",
       " Cas_A 350.82570 58.78139 57925.017199 ...       88068      CAL  53692\n",
       " Cas_A 350.81590 58.78534 57923.087986 ...       88068      CAL  53693\n",
       " Cas_A 350.80710 58.79000 57924.051181 ...       88068      CAL  53699\n",
       " Cas_A 350.85390 58.80125 59852.162963 ...       59866      CAL  54521\n",
       " Cas_A 350.85450 58.80301 60578.431481 ...       60592      CAL  54523\n",
       " Cas_A 350.86070 58.80435 59131.597222 ...       59145      CAL  54524\n",
       " Cas_A 350.85090 58.80490 60003.237731 ...       60017      CAL  54525\n",
       "   ...       ...      ...          ... ...         ...      ...    ...\n",
       " Cas_A 350.85300 58.81191 60168.532176 ...       60182      CAL  55000\n",
       " Cas_A 350.85560 58.81206 59816.689583 ...       59830      CAL  55001\n",
       " Cas_A 350.85290 58.81228 59441.575694 ...       59455      CAL  55002\n",
       " Cas_A 350.85310 58.81233 59442.027315 ...       59456      CAL  55003\n",
       " Cas_A 350.85250 58.81251 60534.884028 ...       60548      CAL  55004\n",
       " Cas_A 350.86710 58.81393 59018.190046 ...       59032      CAL  55005\n",
       " Cas_A 350.89510 58.81420 60633.596991 ...       60647      CAL  55006\n",
       " Cas_A 350.85060 58.81431 60172.531944 ...       60186      CAL  55007\n",
       " Cas_A 350.85480 58.81491 58073.572072 ...       58181      CAL  55008"
      ]
     },
     "execution_count": 1,
     "metadata": {},
     "output_type": "execute_result"
    }
   ],
   "source": [
    "from astroquery.heasarc import Heasarc\n",
    "from astropy.coordinates import SkyCoord\n",
    "\n",
    "pos = SkyCoord.from_name('Cas A')\n",
    "tab = Heasarc.query_region(pos, catalog='nicermastr')\n",
    "\n",
    "# tab = tab[tab['exposure'] > 0]\n",
    "# links = Heasarc.locate_data(tab[:3])\n",
    "# links['access_url'].pprint()\n",
    "# Heasarc.download_data(links=links[1:2])\n",
    "tab"
   ]
  },
  {
   "cell_type": "code",
   "execution_count": 3,
   "metadata": {},
   "outputs": [
    {
     "data": {
      "text/html": [
       "<div><i>Table length=1</i>\n",
       "<table id=\"table137103412595168\" class=\"table-striped table-bordered table-condensed\">\n",
       "<thead><tr><th>ID</th><th>access_url</th><th>sciserver</th><th>aws</th><th>content_length</th></tr></thead>\n",
       "<thead><tr><th></th><th></th><th></th><th></th><th>byte</th></tr></thead>\n",
       "<thead><tr><th>object</th><th>object</th><th>str39</th><th>str52</th><th>int64</th></tr></thead>\n",
       "<tr><td>ivo://nasa.heasarc/nicermastr?54521</td><td>https://heasarc.gsfc.nasa.gov/FTP/nicer/data/obs/2022_09//5010080245/</td><td>/FTP/nicer/data/obs/2022_09/5010080245/</td><td>s3://nasa-heasarc/nicer/data/obs/2022_09/5010080245/</td><td>22048522</td></tr>\n",
       "</table></div>"
      ],
      "text/plain": [
       "<Table length=1>\n",
       "                 ID                 ... content_length\n",
       "                                    ...      byte     \n",
       "               object               ...     int64     \n",
       "----------------------------------- ... --------------\n",
       "ivo://nasa.heasarc/nicermastr?54521 ...       22048522"
      ]
     },
     "execution_count": 3,
     "metadata": {},
     "output_type": "execute_result"
    }
   ],
   "source": [
    "links = Heasarc.locate_data(tab[5:6])\n",
    "links"
   ]
  },
  {
   "cell_type": "code",
   "execution_count": 40,
   "metadata": {},
   "outputs": [
    {
     "data": {
      "text/plain": [
       "astropy.table.row.Row"
      ]
     },
     "execution_count": 40,
     "metadata": {},
     "output_type": "execute_result"
    }
   ],
   "source": [
    "type(tab[2])"
   ]
  },
  {
   "cell_type": "code",
   "execution_count": 15,
   "metadata": {},
   "outputs": [
    {
     "data": {
      "text/html": [
       "<div><i>Table length=486</i>\n",
       "<table id=\"table132341344661536\" class=\"table-striped table-bordered table-condensed\">\n",
       "<thead><tr><th>name</th><th>ra</th><th>dec</th><th>time</th><th>obsid</th><th>exposure</th><th>processing_status</th><th>processing_date</th><th>public_date</th><th>obs_type</th><th>__row</th></tr></thead>\n",
       "<thead><tr><th></th><th>deg</th><th>deg</th><th>d</th><th></th><th>s</th><th></th><th>d</th><th>d</th><th></th><th></th></tr></thead>\n",
       "<thead><tr><th>object</th><th>float64</th><th>float64</th><th>float64</th><th>object</th><th>float64</th><th>object</th><th>float64</th><th>int32</th><th>object</th><th>object</th></tr></thead>\n",
       "<tr><td>Cas_A</td><td>350.85390</td><td>58.80125</td><td>59852.162963</td><td>5010080245</td><td>204.00000</td><td>VALIDATED</td><td>59861.9066</td><td>59866</td><td>CAL</td><td>54492</td></tr>\n",
       "<tr><td>Cas_A</td><td>350.85450</td><td>58.80301</td><td>60578.431481</td><td>7010080341</td><td>168.00000</td><td>VALIDATED</td><td>60591.7200</td><td>60592</td><td>CAL</td><td>54494</td></tr>\n",
       "<tr><td>Cas_A</td><td>350.86070</td><td>58.80435</td><td>59131.597222</td><td>3010080135</td><td>0.00000</td><td>VALIDATED</td><td>59135.6404</td><td>59145</td><td>CAL</td><td>54495</td></tr>\n",
       "<tr><td>Cas_A</td><td>350.85090</td><td>58.80490</td><td>60003.237731</td><td>5010080277</td><td>528.00000</td><td>VALIDATED</td><td>60011.3168</td><td>60017</td><td>CAL</td><td>54496</td></tr>\n",
       "<tr><td>Cas_A</td><td>350.85800</td><td>58.80521</td><td>59543.789352</td><td>4010080178</td><td>99.00000</td><td>VALIDATED</td><td>59553.7997</td><td>59557</td><td>CAL</td><td>54497</td></tr>\n",
       "<tr><td>Cas_A</td><td>350.86790</td><td>58.80590</td><td>60173.827546</td><td>6010080255</td><td>0.00000</td><td>VALIDATED</td><td>60185.2376</td><td>60187</td><td>CAL</td><td>54498</td></tr>\n",
       "<tr><td>Cas_A</td><td>350.85020</td><td>58.80618</td><td>59999.420833</td><td>5010080276</td><td>1476.00000</td><td>VALIDATED</td><td>60005.2335</td><td>60013</td><td>CAL</td><td>54499</td></tr>\n",
       "<tr><td>Cas_A</td><td>350.86470</td><td>58.80619</td><td>59365.050926</td><td>4010080115</td><td>0.00000</td><td>VALIDATED</td><td>59374.7422</td><td>59379</td><td>CAL</td><td>54500</td></tr>\n",
       "<tr><td>Cas_A</td><td>350.85570</td><td>58.80648</td><td>59542.045370</td><td>4010080177</td><td>989.00000</td><td>VALIDATED</td><td>59552.7799</td><td>59556</td><td>CAL</td><td>54501</td></tr>\n",
       "<tr><td>...</td><td>...</td><td>...</td><td>...</td><td>...</td><td>...</td><td>...</td><td>...</td><td>...</td><td>...</td><td>...</td></tr>\n",
       "<tr><td>Cas_A</td><td>350.85300</td><td>58.81191</td><td>60168.532176</td><td>6010080251</td><td>1.06486</td><td>VALIDATED</td><td>60180.1089</td><td>60182</td><td>CAL</td><td>54971</td></tr>\n",
       "<tr><td>Cas_A</td><td>350.85560</td><td>58.81206</td><td>59816.689583</td><td>5010080226</td><td>346.00000</td><td>VALIDATED</td><td>59829.3213</td><td>59830</td><td>CAL</td><td>54972</td></tr>\n",
       "<tr><td>Cas_A</td><td>350.85290</td><td>58.81228</td><td>59441.575694</td><td>4010080137</td><td>2557.00000</td><td>VALIDATED</td><td>59470.9208</td><td>59455</td><td>CAL</td><td>54973</td></tr>\n",
       "<tr><td>Cas_A</td><td>350.85310</td><td>58.81233</td><td>59442.027315</td><td>4010080138</td><td>4618.00000</td><td>VALIDATED</td><td>59470.9378</td><td>59456</td><td>CAL</td><td>54974</td></tr>\n",
       "<tr><td>Cas_A</td><td>350.85250</td><td>58.81251</td><td>60534.884028</td><td>7010080333</td><td>0.00000</td><td>VALIDATED</td><td>60545.5143</td><td>60548</td><td>CAL</td><td>54975</td></tr>\n",
       "<tr><td>Cas_A</td><td>350.86710</td><td>58.81393</td><td>59018.190046</td><td>3010080120</td><td>270.00000</td><td>VALIDATED</td><td>59022.7164</td><td>59032</td><td>CAL</td><td>54976</td></tr>\n",
       "<tr><td>Cas_A</td><td>350.89510</td><td>58.81420</td><td>60633.596991</td><td>7010080342</td><td>0.00000</td><td>VALIDATED</td><td>60643.7810</td><td>60647</td><td>CAL</td><td>54977</td></tr>\n",
       "<tr><td>Cas_A</td><td>350.85060</td><td>58.81431</td><td>60172.531944</td><td>6010080254</td><td>0.00000</td><td>VALIDATED</td><td>60185.1050</td><td>60186</td><td>CAL</td><td>54978</td></tr>\n",
       "<tr><td>Cas_A</td><td>350.85480</td><td>58.81491</td><td>58073.572072</td><td>1010080105</td><td>516.00000</td><td>VALIDATED</td><td>58180.3188</td><td>58181</td><td>CAL</td><td>54979</td></tr>\n",
       "</table></div>"
      ],
      "text/plain": [
       "<Table length=486>\n",
       " name      ra      dec        time     ... public_date obs_type __row \n",
       "          deg      deg         d       ...      d                     \n",
       "object  float64  float64    float64    ...    int32     object  object\n",
       "------ --------- -------- ------------ ... ----------- -------- ------\n",
       " Cas_A 350.85390 58.80125 59852.162963 ...       59866      CAL  54492\n",
       " Cas_A 350.85450 58.80301 60578.431481 ...       60592      CAL  54494\n",
       " Cas_A 350.86070 58.80435 59131.597222 ...       59145      CAL  54495\n",
       " Cas_A 350.85090 58.80490 60003.237731 ...       60017      CAL  54496\n",
       " Cas_A 350.85800 58.80521 59543.789352 ...       59557      CAL  54497\n",
       " Cas_A 350.86790 58.80590 60173.827546 ...       60187      CAL  54498\n",
       " Cas_A 350.85020 58.80618 59999.420833 ...       60013      CAL  54499\n",
       " Cas_A 350.86470 58.80619 59365.050926 ...       59379      CAL  54500\n",
       " Cas_A 350.85570 58.80648 59542.045370 ...       59556      CAL  54501\n",
       "   ...       ...      ...          ... ...         ...      ...    ...\n",
       " Cas_A 350.85300 58.81191 60168.532176 ...       60182      CAL  54971\n",
       " Cas_A 350.85560 58.81206 59816.689583 ...       59830      CAL  54972\n",
       " Cas_A 350.85290 58.81228 59441.575694 ...       59455      CAL  54973\n",
       " Cas_A 350.85310 58.81233 59442.027315 ...       59456      CAL  54974\n",
       " Cas_A 350.85250 58.81251 60534.884028 ...       60548      CAL  54975\n",
       " Cas_A 350.86710 58.81393 59018.190046 ...       59032      CAL  54976\n",
       " Cas_A 350.89510 58.81420 60633.596991 ...       60647      CAL  54977\n",
       " Cas_A 350.85060 58.81431 60172.531944 ...       60186      CAL  54978\n",
       " Cas_A 350.85480 58.81491 58073.572072 ...       58181      CAL  54979"
      ]
     },
     "execution_count": 15,
     "metadata": {},
     "output_type": "execute_result"
    }
   ],
   "source": [
    "tab[tab['processing_status'] != 'PROCESSED']\n"
   ]
  },
  {
   "cell_type": "code",
   "execution_count": 21,
   "metadata": {},
   "outputs": [],
   "source": [
    "links = Heasarc.locate_data(tab[tab['processing_status'] != 'PROCESSED'][:2])"
   ]
  },
  {
   "cell_type": "code",
   "execution_count": 42,
   "metadata": {},
   "outputs": [
    {
     "data": {
      "text/plain": [
       "astropy.table.table.Table"
      ]
     },
     "execution_count": 42,
     "metadata": {},
     "output_type": "execute_result"
    }
   ],
   "source": [
    "a = links[0:1]\n",
    "type(a)"
   ]
  },
  {
   "cell_type": "code",
   "execution_count": 4,
   "metadata": {},
   "outputs": [
    {
     "name": "stdout",
     "output_type": "stream",
     "text": [
      "INFO: Downloading data from the HEASARC ... [astroquery.heasarc.core]\n",
      "INFO: Downloading to ./heasarc-data.tar ... [astroquery.heasarc.core]\n",
      "INFO: Untar ./heasarc-data.tar to . ... [astroquery.heasarc.core]\n"
     ]
    }
   ],
   "source": [
    "Heasarc.download_data(links=links)"
   ]
  },
  {
   "cell_type": "code",
   "execution_count": null,
   "metadata": {},
   "outputs": [],
   "source": []
  }
 ],
 "metadata": {
  "kernelspec": {
   "display_name": ".venv",
   "language": "python",
   "name": "python3"
  },
  "language_info": {
   "codemirror_mode": {
    "name": "ipython",
    "version": 3
   },
   "file_extension": ".py",
   "mimetype": "text/x-python",
   "name": "python",
   "nbconvert_exporter": "python",
   "pygments_lexer": "ipython3",
   "version": "3.12.3"
  }
 },
 "nbformat": 4,
 "nbformat_minor": 2
}
